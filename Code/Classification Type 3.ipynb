{
 "cells": [
  {
   "cell_type": "code",
   "execution_count": 1,
   "metadata": {
    "collapsed": true
   },
   "outputs": [],
   "source": [
    "import pandas as pd\n",
    "import numpy as np\n",
    "import matplotlib.pyplot as plt\n",
    "%matplotlib inline\n",
    "from IPython.display import display\n",
    "from pandas import ExcelWriter"
   ]
  },
  {
   "cell_type": "code",
   "execution_count": 2,
   "metadata": {
    "collapsed": true
   },
   "outputs": [],
   "source": [
    "houses = {}\n",
    "for i in range(1,7):\n",
    "    house_name = 'house_{}'.format(i)\n",
    "    data_name = 'house_{}.csv'.format(i)\n",
    "    houses[house_name] = pd.read_csv(data_name)\n"
   ]
  },
  {
   "cell_type": "code",
   "execution_count": 3,
   "metadata": {
    "collapsed": false
   },
   "outputs": [],
   "source": [
    "path = 'csv training data/csv training data/'\n",
    "\n",
    "train_data_1_full = {}\n",
    "# train_data_x_full = {}\n",
    "# train_data_y_full = {}\n",
    "\n",
    "## Creating the labels for the dictionary in the same order as the read_csv function\n",
    "names = list(houses['house_1'])\n",
    "\n",
    "sorted_names = sorted(names)\n",
    "\n",
    "a,b = sorted_names.index('kitchen_outlets_x'), sorted_names.index('kitchen_outlets_x.1')\n",
    "c,d = sorted_names.index('kitchen_outlets_y'), sorted_names.index('kitchen_outlets_y.1')\n",
    "sorted_names[b], sorted_names[a] = sorted_names[a], sorted_names[b]\n",
    "sorted_names[d], sorted_names[c] = sorted_names[c], sorted_names[d]\n",
    "\n",
    "import os\n",
    "for (i,filename) in enumerate(os.listdir(path)):\n",
    "    train_data_1_full[sorted_names[i]] = pd.read_csv(path + filename)"
   ]
  },
  {
   "cell_type": "code",
   "execution_count": 4,
   "metadata": {
    "collapsed": false
   },
   "outputs": [],
   "source": [
    "path_3 = 'CSV training data house3/CSV training data house3/'\n",
    "train_data_3_full = {}\n",
    "# train_data_x_full = {}\n",
    "# train_data_y_full = {}\n",
    "\n",
    "## Creating the labels for the dictionary in the same order as the read_csv function\n",
    "names = list(houses['house_3'])\n",
    "\n",
    "sorted_names = sorted(names)\n",
    "\n",
    "# a,b = sorted_names.index('kitchen_outlets_x'), sorted_names.index('kitchen_outlets_x.1')\n",
    "# c,d = sorted_names.index('kitchen_outlets_y'), sorted_names.index('kitchen_outlets_y.1')\n",
    "# sorted_names[b], sorted_names[a] = sorted_names[a], sorted_names[b]\n",
    "# sorted_names[d], sorted_names[c] = sorted_names[c], sorted_names[d]\n",
    "\n",
    "import os\n",
    "for (i,filename) in enumerate(os.listdir(path_3)):\n",
    "    train_data_3_full[sorted_names[i]] = pd.read_csv(path_3 + filename)"
   ]
  },
  {
   "cell_type": "code",
   "execution_count": 5,
   "metadata": {
    "collapsed": false
   },
   "outputs": [],
   "source": [
    "class_full_data_1 = pd.concat([train_data_1_full['refrigerator'],train_data_1_full['lighting_x'],train_data_1_full['bathroom_gfi'],train_data_1_full['lighting_y']])\n",
    "class_full_data_3 = pd.concat([train_data_3_full['refrigerator'],train_data_3_full['lighting_x'],train_data_3_full['bathroom_gfi'],train_data_3_full['lighting_y']])\n",
    "\n",
    "class_full_data_x_1 = class_full_data_1\n",
    "class_full_data_y_1 = class_full_data_1\n",
    "class_full_data_x_3 = class_full_data_3\n",
    "class_full_data_y_3 = class_full_data_3\n",
    "\n",
    "# Dropping label and adding Minute & Seconds as features\n",
    "class_full_data_x_1 = class_full_data_x_1.drop('label', axis = 1)\n",
    "class_full_data_x_1['Datetime'] = pd.to_datetime(class_full_data_x_1['Datetime'],format = '%Y-%m-%d %H:%M:%S')\n",
    "class_full_data_x_1['Minute'] = class_full_data_x_1['Datetime'].dt.minute \n",
    "class_full_data_x_1['Seconds'] = class_full_data_x_1['Datetime'].dt.second\n",
    "\n",
    "class_full_data_x_3 = class_full_data_x_3.drop('label', axis = 1)\n",
    "class_full_data_x_3['Datetime'] = pd.to_datetime(class_full_data_x_3['Datetime'],format = '%Y-%m-%d %H:%M:%S')\n",
    "class_full_data_x_3['Minute'] = class_full_data_x_3['Datetime'].dt.minute \n",
    "class_full_data_x_3['Seconds'] = class_full_data_x_3['Datetime'].dt.second\n",
    "\n",
    "class_full_data_x_1 = class_full_data_x_1.drop('Datetime', axis = 1)\n",
    "class_full_data_y_1 = class_full_data_y_1['label']\n",
    "class_full_data_x_3 = class_full_data_x_3.drop('Datetime', axis = 1)\n",
    "class_full_data_y_3 = class_full_data_y_3['label']\n"
   ]
  },
  {
   "cell_type": "code",
   "execution_count": 6,
   "metadata": {
    "collapsed": false
   },
   "outputs": [],
   "source": [
    "from sklearn import model_selection\n",
    "from sklearn.model_selection import train_test_split\n",
    "from sklearn.tree import DecisionTreeClassifier\n",
    "from sklearn.metrics import accuracy_score\n",
    "\n",
    "X_train_1, X_test_1, y_train_1, y_test_1 = train_test_split(class_full_data_x_1, class_full_data_y_1, test_size=0.25, random_state=42)\n",
    "X_train_3, X_test_3, y_train_3, y_test_3 = train_test_split(class_full_data_x_3, class_full_data_y_3, test_size=0.25, random_state=42)\n"
   ]
  },
  {
   "cell_type": "code",
   "execution_count": 7,
   "metadata": {
    "collapsed": false
   },
   "outputs": [
    {
     "name": "stdout",
     "output_type": "stream",
     "text": [
      "Test set accuracy: 0.211269\n",
      "Train set accuracy: 0.809913\n"
     ]
    }
   ],
   "source": [
    "\n",
    "from sklearn import linear_model\n",
    "\n",
    "clf = linear_model.LogisticRegression()\n",
    "clf.fit(X_train_1,y_train_1)\n",
    "y_pred = clf.predict(X_test_3)\n",
    "ytrain_pred = clf.predict(X_train_1)\n",
    "\n",
    "acc = accuracy_score(y_test_3,y_pred)\n",
    "print(\"Test set accuracy: %f\" % acc)\n",
    "\n",
    "acc2 = accuracy_score(y_train_1,ytrain_pred)\n",
    "print(\"Train set accuracy: %f\" % acc2)\n"
   ]
  },
  {
   "cell_type": "code",
   "execution_count": 8,
   "metadata": {
    "collapsed": false
   },
   "outputs": [
    {
     "name": "stdout",
     "output_type": "stream",
     "text": [
      "Test set accuracy: 0.153370\n",
      "Train set accuracy: 0.996829\n"
     ]
    }
   ],
   "source": [
    "from sklearn import neighbors\n",
    "clf3 = neighbors.KNeighborsClassifier()\n",
    "clf3.fit(X_train_1,y_train_1)\n",
    "y_pred = clf3.predict(X_test_3)\n",
    "ytrain_pred = clf3.predict(X_train_1)\n",
    "\n",
    "acc = accuracy_score(y_test_3,y_pred)\n",
    "print(\"Test set accuracy: %f\" % acc)\n",
    "\n",
    "acc2 = accuracy_score(y_train_1,ytrain_pred)\n",
    "print(\"Train set accuracy: %f\" % acc2)\n"
   ]
  },
  {
   "cell_type": "code",
   "execution_count": 9,
   "metadata": {
    "collapsed": false
   },
   "outputs": [
    {
     "name": "stdout",
     "output_type": "stream",
     "text": [
      "Test set accuracy: 0.143092\n",
      "Train set accuracy: 0.624037\n"
     ]
    }
   ],
   "source": [
    "from sklearn import naive_bayes \n",
    "clf2 = naive_bayes.BernoulliNB()\n",
    "clf2.fit(X_train_1,y_train_1)\n",
    "y_pred = clf2.predict(X_test_3)\n",
    "ytrain_pred = clf2.predict(X_train_1)\n",
    "\n",
    "acc = accuracy_score(y_test_3,y_pred)\n",
    "print(\"Test set accuracy: %f\" % acc)\n",
    "\n",
    "acc2 = accuracy_score(y_train_1,ytrain_pred)\n",
    "print(\"Train set accuracy: %f\" % acc2)\n"
   ]
  }
 ],
 "metadata": {
  "anaconda-cloud": {},
  "kernelspec": {
   "display_name": "Python [conda root]",
   "language": "python",
   "name": "conda-root-py"
  },
  "language_info": {
   "codemirror_mode": {
    "name": "ipython",
    "version": 3
   },
   "file_extension": ".py",
   "mimetype": "text/x-python",
   "name": "python",
   "nbconvert_exporter": "python",
   "pygments_lexer": "ipython3",
   "version": "3.5.2"
  }
 },
 "nbformat": 4,
 "nbformat_minor": 1
}
