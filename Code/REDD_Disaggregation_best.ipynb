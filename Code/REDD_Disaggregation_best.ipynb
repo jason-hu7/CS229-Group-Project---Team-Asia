{
 "cells": [
  {
   "cell_type": "code",
   "execution_count": 2,
   "metadata": {},
   "outputs": [],
   "source": [
    "import pandas as pd\n",
    "import numpy as np\n",
    "from matplotlib import cm, pyplot as plt\n",
    "from matplotlib.dates import YearLocator, MonthLocator\n",
    "%matplotlib inline\n",
    "# import _pickle as pk\n",
    "from hmmlearn import hmm\n",
    "import math\n",
    "import os\n",
    "from IPython.display import display\n",
    "from pandas import ExcelWriter"
   ]
  },
  {
   "cell_type": "markdown",
   "metadata": {},
   "source": [
    "# Load The Data"
   ]
  },
  {
   "cell_type": "code",
   "execution_count": 3,
   "metadata": {
    "collapsed": true
   },
   "outputs": [],
   "source": [
    "houses = {}\n",
    "for i in range(1,7):\n",
    "    house_name = 'house_{}'.format(i)\n",
    "    data_name = 'house_{}.csv'.format(i)\n",
    "    houses[house_name] = pd.read_csv(data_name)"
   ]
  },
  {
   "cell_type": "markdown",
   "metadata": {},
   "source": [
    "# Convert raw time data to formatted time"
   ]
  },
  {
   "cell_type": "code",
   "execution_count": 4,
   "metadata": {
    "collapsed": true
   },
   "outputs": [],
   "source": [
    "for house_key in houses.keys():\n",
    "    house = houses[house_key]\n",
    "    house= house.drop('Unnamed: 0', axis = 1)\n",
    "    house['time'] = pd.to_datetime(house['time'],format = '%Y-%m-%d %H:%M:%S')\n",
    "    house['Weekday'] = house['time'].dt.weekday\n",
    "    house['Hour'] = house['time'].dt.hour\n",
    "    house['Minute'] = house['time'].dt.minute\n",
    "    house['Seconds'] = house['time'].dt.second\n",
    "    house['Month'] = house['time'].dt.month\n",
    "    house['Day'] = house['time'].dt.day\n",
    "    houses[house_key] = house"
   ]
  },
  {
   "cell_type": "markdown",
   "metadata": {},
   "source": [
    "## Setting index to Datetime"
   ]
  },
  {
   "cell_type": "code",
   "execution_count": 5,
   "metadata": {
    "collapsed": true
   },
   "outputs": [],
   "source": [
    "# df_houses = {}\n",
    "for house_key in houses.keys():\n",
    "    house = houses[house_key]\n",
    "    house['Datetime']= pd.to_datetime(house['time'], format = '%Y-%m-%d %H:%M:%S')\n",
    "    house = house.set_index('Datetime')\n",
    "    house = house.drop('time', axis=1)\n",
    "    houses[house_key] = house  "
   ]
  },
  {
   "cell_type": "markdown",
   "metadata": {},
   "source": [
    "## Load all the processed data with selected features"
   ]
  },
  {
   "cell_type": "code",
   "execution_count": 6,
   "metadata": {},
   "outputs": [],
   "source": [
    "path = 'csv training data/csv training data/'\n",
    "train_data_full = {}\n",
    "names = list(houses['house_1'])[:-6]\n",
    "\n",
    "sorted_names = sorted(names)\n",
    "\n",
    "a,b = sorted_names.index('kitchen_outlets_x'), sorted_names.index('kitchen_outlets_x.1')\n",
    "c,d = sorted_names.index('kitchen_outlets_y'), sorted_names.index('kitchen_outlets_y.1')\n",
    "sorted_names[b], sorted_names[a] = sorted_names[a], sorted_names[b]\n",
    "sorted_names[d], sorted_names[c] = sorted_names[c], sorted_names[d]\n",
    "\n",
    "\n",
    "for (i,filename) in enumerate(os.listdir(path)):\n",
    "    train_data_full[sorted_names[i]] = pd.read_csv(path + filename)"
   ]
  },
  {
   "cell_type": "code",
   "execution_count": 7,
   "metadata": {},
   "outputs": [
    {
     "data": {
      "text/plain": [
       "['mains_x',\n",
       " 'mains_y',\n",
       " 'kitchen_outlets_x',\n",
       " 'oven_y',\n",
       " 'oven_x',\n",
       " 'lighting_x',\n",
       " 'stove',\n",
       " 'lighting_y',\n",
       " 'microwave',\n",
       " 'kitchen_outlets_y.1',\n",
       " 'washer_dryer_x',\n",
       " 'washer_dryer_y',\n",
       " 'kitchen_outlets_x.1',\n",
       " 'electric_heat',\n",
       " 'lighting',\n",
       " 'dishwaser',\n",
       " 'kitchen_outlets_y',\n",
       " 'bathroom_gfi',\n",
       " 'washer_dryer',\n",
       " 'refrigerator']"
      ]
     },
     "execution_count": 7,
     "metadata": {},
     "output_type": "execute_result"
    }
   ],
   "source": [
    "list(train_data_full)"
   ]
  },
  {
   "cell_type": "markdown",
   "metadata": {},
   "source": [
    "## Preparing Data for HHM"
   ]
  },
  {
   "cell_type": "code",
   "execution_count": 8,
   "metadata": {
    "collapsed": true
   },
   "outputs": [],
   "source": [
    "class_full_data = pd.concat([train_data_full['refrigerator'],train_data_full['microwave'],train_data_full['oven_x'],train_data_full['washer_dryer']])\n",
    "class_full_data_x = class_full_data\n",
    "class_full_data_y = class_full_data\n",
    "class_refrigerator_x = train_data_full['refrigerator']\n",
    "class_microwave_x = train_data_full['microwave']\n",
    "class_ovenx_x = train_data_full['oven_x']\n",
    "class_washerdryer_x = train_data_full['washer_dryer']"
   ]
  },
  {
   "cell_type": "code",
   "execution_count": 9,
   "metadata": {
    "collapsed": true,
    "scrolled": true
   },
   "outputs": [],
   "source": [
    "class_refrigerator_x = train_data_full['refrigerator']\n",
    "class_microwave_x = train_data_full['microwave']\n",
    "\n",
    "class_lighting_x = train_data_full['lighting_x']\n",
    "class_lighting_y = train_data_full['lighting_y']\n",
    "class_kitchen_x1 = train_data_full['kitchen_outlets_x.1']\n",
    "class_kitchen_y1 = train_data_full['kitchen_outlets_y.1']\n",
    "\n",
    "refrigerator_train = class_refrigerator_x['Power'][:320000] - class_refrigerator_x['baseline_d'][:320000]\n",
    "microwave_train = class_microwave_x['Power'][:320000] - class_microwave_x['baseline_d'][:320000]\n",
    "lighting_x_train = class_lighting_x['Power'][:320000] - class_lighting_x['baseline_d'][:320000]\n",
    "\n",
    "lighting_y_train = class_lighting_y['Power'][:320000] - class_lighting_y['baseline_d'][:320000]\n",
    "kitchen_x1_train = class_kitchen_x1['Power'][:320000] - class_kitchen_x1['baseline_d'][:320000]\n",
    "kitchen_y1_train = class_kitchen_y1['Power'][:320000] - class_kitchen_y1['baseline_d'][:320000]\n",
    "\n",
    "lighting_y_test = class_lighting_y['Power'][320000:] - class_lighting_y['baseline_d'][320000:]\n",
    "kitchen_x1_test = class_kitchen_x1['Power'][320000:] - class_kitchen_x1['baseline_d'][320000:]\n",
    "kitchen_y1_test = class_kitchen_y1['Power'][320000:] - class_kitchen_y1['baseline_d'][320000:]\n",
    "\n",
    "refrigerator_test = class_refrigerator_x['Power'][320000:] - class_refrigerator_x['baseline_d'][320000:]\n",
    "washerdryer_test = class_washerdryer_x['Power'][320000:] - class_washerdryer_x['baseline_d'][320000:]\n",
    "\n",
    "aggregate_data_train = refrigerator_train+microwave_train+lighting_y_train+kitchen_x1_train+kitchen_y1_train\n",
    "aggregate_data_test = refrigerator_test+microwave_test+ovenx_test+washerdryer_test"
   ]
  },
  {
   "cell_type": "markdown",
   "metadata": {},
   "source": [
    "## Refrigerator"
   ]
  },
  {
   "cell_type": "code",
   "execution_count": 12,
   "metadata": {
    "collapsed": true
   },
   "outputs": [],
   "source": [
    "X_train = np.column_stack([refrigerator_train])"
   ]
  },
  {
   "cell_type": "code",
   "execution_count": 13,
   "metadata": {
    "scrolled": true
   },
   "outputs": [
    {
     "data": {
      "text/plain": [
       "[<matplotlib.lines.Line2D at 0x75926cc0>]"
      ]
     },
     "execution_count": 13,
     "metadata": {},
     "output_type": "execute_result"
    },
    {
     "data": {
      "image/png": "[encoded data removed]",
      "text/plain": [
       "<matplotlib.figure.Figure at 0x16ba40b8>"
      ]
     },
     "metadata": {},
     "output_type": "display_data"
    }
   ],
   "source": [
    "hmm_model = hmm.GMMHMM(n_components=5, covariance_type=\"full\",n_iter = 1000,algorithm = 'viterbi')\n",
    "hmm_model.fit(X_train)\n",
    "hidden_states = hmm_model.predict(X_train)\n",
    "means = hmm_model.means_.round().astype(int).flatten().tolist()\n",
    "predict_levels = np.array([means[state] for state in hidden_states])\n",
    "plt.plot(predict_levels[:50000])"
   ]
  },
  {
   "cell_type": "code",
   "execution_count": 14,
   "metadata": {},
   "outputs": [
    {
     "data": {
      "text/plain": [
       "[<matplotlib.lines.Line2D at 0x235b73c8>]"
      ]
     },
     "execution_count": 14,
     "metadata": {},
     "output_type": "execute_result"
    },
    {
     "data": {
      "image/png": "[encoded data removed]",
      "text/plain": [
       "<matplotlib.figure.Figure at 0x235b7400>"
      ]
     },
     "metadata": {},
     "output_type": "display_data"
    }
   ],
   "source": [
    "## Trying it on the aggregated test case\n",
    "\n",
    "X_test = np.column_stack([aggregate_data_test])\n",
    "\n",
    "hidden_states_test = hmm_model.predict(X_test)\n",
    "means = hmm_model.means_.round().astype(int).flatten().tolist()\n",
    "predict_levels = np.array([means[state] for state in hidden_states_test])\n",
    "\n",
    "actual = np.array(refrigerator_test[:6000])\n",
    "\n",
    "plt.plot(actual)\n",
    "plt.plot(predict_levels[:6000])"
   ]
  },
  {
   "cell_type": "markdown",
   "metadata": {},
   "source": [
    "## Now we will try to improve our model"
   ]
  },
  {
   "cell_type": "code",
   "execution_count": 39,
   "metadata": {},
   "outputs": [
    {
     "data": {
      "text/plain": [
       "array([[  9.09515633e-001,   4.34027742e-002,   2.77230931e-003,\n",
       "          4.43092832e-002,   9.46335645e-088],\n",
       "       [  2.34316153e-003,   9.97185966e-001,   4.70826411e-004,\n",
       "          4.60923024e-008,   1.18372191e-109],\n",
       "       [  3.41240707e-003,   2.01766469e-002,   9.54750818e-001,\n",
       "          1.69134909e-002,   4.74663746e-003],\n",
       "       [  1.12496414e-003,   3.50531314e-003,   1.12671311e-003,\n",
       "          9.94243010e-001,   1.98258010e-058],\n",
       "       [  6.14095255e-096,   1.16785210e-106,   7.23715614e-002,\n",
       "          2.18909514e-093,   9.27628439e-001]])"
      ]
     },
     "execution_count": 39,
     "metadata": {},
     "output_type": "execute_result"
    }
   ],
   "source": [
    "hmm_model.transmat_"
   ]
  },
  {
   "cell_type": "code",
   "execution_count": null,
   "metadata": {
    "collapsed": true
   },
   "outputs": [],
   "source": [
    "# We will customize intial probability emission and transitiion matrix\n",
    "model = hmm.GMHMM(n_components=3, covariance_type=\"full\")\n",
    "model.startprob_ = np.array([0.6, 0.3, 0.1])\n",
    "model.transmat_ = np.array([[0.7, 0.2, 0.1],[0.3, 0.5, 0.2], [0.3, 0.3, 0.4]])\n",
    "# model.means_ = np.array([[0.0, 0.0], [3.0, -3.0], [5.0, 10.0]])\n",
    "# model.covars_ = np.tile(np.identity(2), (3, 1, 1))"
   ]
  },
  {
   "cell_type": "code",
   "execution_count": 236,
   "metadata": {
    "scrolled": true
   },
   "outputs": [
    {
     "data": {
      "text/plain": [
       "GMMHMM(algorithm='viterbi', covariance_type='full',\n",
       "    covars_prior=array([[[[ 0.]]],\n",
       "\n",
       "\n",
       "       [[[ 0.]]],\n",
       "\n",
       "\n",
       "       [[[ 0.]]]]),\n",
       "    covars_weight=array([[-3.],\n",
       "       [-3.],\n",
       "       [-3.]]),\n",
       "    init_params='stmcw',\n",
       "    means_prior=array([[[ 0.]],\n",
       "\n",
       "       [[ 0.]],\n",
       "\n",
       "       [[ 0.]]]),\n",
       "    means_weight=array([[ 0.],\n",
       "       [ 0.],\n",
       "       [ 0.]]),\n",
       "    min_covar=0.001, n_components=3, n_iter=1000, n_mix=1, params='stmcw',\n",
       "    random_state=None, startprob_prior=1.0, tol=0.01, transmat_prior=1.0,\n",
       "    verbose=False,\n",
       "    weights_prior=array([[ 1.],\n",
       "       [ 1.],\n",
       "       [ 1.]]))"
      ]
     },
     "execution_count": 236,
     "metadata": {},
     "output_type": "execute_result"
    }
   ],
   "source": [
    "# train the models for refrigerator and microwave respectively\n",
    "class_microwave_x = train_data_full['microwave']\n",
    "microwave_train = class_microwave_x['Power'][:320000] - class_microwave_x['baseline_d'][:320000]\n",
    "microwave_test = class_microwave_x['Power'][320000:] - class_microwave_x['baseline_d'][320000:]\n",
    "\n",
    "X_train = np.column_stack([refrigerator_train])\n",
    "\n",
    "ref_model = hmm.GMMHMM(n_components=3, covariance_type=\"full\",n_iter = 1000,algorithm = 'viterbi')\n",
    "ref_model.fit(X_train)\n",
    "\n",
    "X_train = np.column_stack([microwave_train])\n",
    "\n",
    "micro_model = hmm.GMMHMM(n_components=3, covariance_type=\"full\",n_iter = 1000,algorithm = 'viterbi')\n",
    "micro_model.fit(X_train)"
   ]
  },
  {
   "cell_type": "code",
   "execution_count": 241,
   "metadata": {
    "scrolled": true
   },
   "outputs": [
    {
     "data": {
      "text/plain": [
       "(9L,)"
      ]
     },
     "execution_count": 241,
     "metadata": {},
     "output_type": "execute_result"
    }
   ],
   "source": [
    "A_ref = ref_model.transmat_\n",
    "A_micro = micro_model.transmat_        \n",
    "        \n",
    "A_full = np.kron(A_ref, A_micro)    \n",
    "A_full.shape\n",
    "\n",
    "P_ref = ref_model.startprob_\n",
    "P_micro = micro_model.startprob_\n",
    "\n",
    "P_full = np.kron(P_ref,P_micro)\n",
    "P_full.shape"
   ]
  },
  {
   "cell_type": "code",
   "execution_count": 242,
   "metadata": {
    "collapsed": true
   },
   "outputs": [],
   "source": [
    "mean_ref = ref_model.means_\n",
    "mean_micro = micro_model.means_\n",
    "\n",
    "mean_full = np.kron(mean_ref,mean_micro)"
   ]
  },
  {
   "cell_type": "code",
   "execution_count": 243,
   "metadata": {},
   "outputs": [],
   "source": [
    "var_ref = ref_model.covars_\n",
    "var_micro = micro_model.covars_\n",
    "var_full = np.kron(var_ref,var_micro)"
   ]
  },
  {
   "cell_type": "code",
   "execution_count": 244,
   "metadata": {
    "scrolled": true
   },
   "outputs": [
    {
     "data": {
      "text/plain": [
       "GMMHMM(algorithm='viterbi', covariance_type='full',\n",
       "    covars_prior=array([[[[ 0.]]],\n",
       "\n",
       "\n",
       "       [[[ 0.]]],\n",
       "\n",
       "\n",
       "       [[[ 0.]]],\n",
       "\n",
       "\n",
       "       [[[ 0.]]],\n",
       "\n",
       "\n",
       "       [[[ 0.]]],\n",
       "\n",
       "\n",
       "       [[[ 0.]]],\n",
       "\n",
       "\n",
       "       [[[ 0.]]],\n",
       "\n",
       "\n",
       "       [[[ 0.]]],\n",
       "\n",
       "\n",
       "       [[[ 0.]]]]),\n",
       "    covars_weight=array([[-3.],\n",
       "       [-3.],\n",
       "       [-3.],\n",
       "       [-3.],\n",
       "       [-3.],\n",
       "       [-3.],\n",
       "       [-3.],\n",
       "       [-3.],\n",
       "       [-3.]]),\n",
       "    init_params='stmc',\n",
       "    means_prior=array([[[ 0.]],\n",
       "\n",
       "       [[ 0.]],\n",
       "\n",
       "       [[ 0.]],\n",
       "\n",
       "       [[ 0.]],\n",
       "\n",
       "       [[ 0.]],\n",
       "\n",
       "       [[ 0.]],\n",
       "\n",
       "       [[ 0.]],\n",
       "\n",
       "       [[ 0.]],\n",
       "\n",
       "       [[ 0.]]]),\n",
       "    means_weight=array([[ 0.],\n",
       "       [ 0.],\n",
       "       [ 0.],\n",
       "       [ 0.],\n",
       "       [ 0.],\n",
       "       [ 0.],\n",
       "       [ 0.],\n",
       "       [ 0.],\n",
       "       [ 0.]]),\n",
       "    min_covar=0.001, n_components=9, n_iter=1000, n_mix=1, params='stmcw',\n",
       "    random_state=None, startprob_prior=1.0, tol=0.01, transmat_prior=1.0,\n",
       "    verbose=False,\n",
       "    weights_prior=array([[ 1.],\n",
       "       [ 1.],\n",
       "       [ 1.],\n",
       "       [ 1.],\n",
       "       [ 1.],\n",
       "       [ 1.],\n",
       "       [ 1.],\n",
       "       [ 1.],\n",
       "       [ 1.]]))"
      ]
     },
     "execution_count": 244,
     "metadata": {},
     "output_type": "execute_result"
    }
   ],
   "source": [
    "X_train = refrigerator_train + microwave_train\n",
    "X_test = refrigerator_test + microwave_test\n",
    "\n",
    "X_train = np.column_stack([X_train])\n",
    "X_test = np.column_stack([X_test])\n",
    "\n",
    "hmm_model = hmm.GMMHMM(n_components=9, covariance_type=\"full\",n_iter = 1000,algorithm = 'viterbi',init_params='stmc')\n",
    "hmm_model.startprob_ = P_full\n",
    "hmm_model.transmat_ = A_full\n",
    "hmm_model.means_ = mean_full\n",
    "hmm_model.covars_ = var_full\n",
    "\n",
    "hmm_model.fit(X_train)"
   ]
  },
  {
   "cell_type": "code",
   "execution_count": 246,
   "metadata": {},
   "outputs": [],
   "source": [
    "# from numpy import inf\n",
    "\n",
    "# cv = hmm_model.covars_\n",
    "# hmm_model.covars_[cv == inf] = 0\n",
    "\n",
    "# microwave_test = class_microwave_x['Power'][320000:] - class_microwave_x['baseline_d'][320000:]\n",
    "\n",
    "# X_test = refrigerator_test + microwave_test\n",
    "# X_test = np.column_stack([X_test])\n",
    "\n",
    "hidden_states_test = hmm_model.predict(X_test)\n",
    "means = hmm_model.means_.round().astype(int).flatten().tolist()\n",
    "predict_levels = np.array([means[state] for state in hidden_states_test])\n",
    "\n",
    "# actual = np.array(refrigerator_test[:6000])\n",
    "# plt.plot(actual)\n",
    "# plt.plot(predict_levels[:6000])\n"
   ]
  },
  {
   "cell_type": "code",
   "execution_count": 248,
   "metadata": {},
   "outputs": [],
   "source": [
    "s_ref = np.zeros(len(hidden_states_test))\n",
    "s_micro = np.zeros(len(hidden_states_test))\n",
    "\n",
    "for i,val in enumerate(hidden_states_test):\n",
    "    s_ref[i] = val/3\n",
    "    s_micro[i] = val%3\n",
    "    "
   ]
  },
  {
   "cell_type": "code",
   "execution_count": 249,
   "metadata": {},
   "outputs": [
    {
     "data": {
      "text/plain": [
       "(array([ 0.,  1.,  2.]), array([78497,   764,  7487], dtype=int64))"
      ]
     },
     "execution_count": 249,
     "metadata": {},
     "output_type": "execute_result"
    }
   ],
   "source": [
    "np.unique(s_micro, return_counts=True)"
   ]
  },
  {
   "cell_type": "markdown",
   "metadata": {},
   "source": [
    "## Apply the trained models on test data"
   ]
  },
  {
   "cell_type": "code",
   "execution_count": 250,
   "metadata": {},
   "outputs": [
    {
     "data": {
      "text/plain": [
       "[<matplotlib.lines.Line2D at 0x8fd956d8>]"
      ]
     },
     "execution_count": 250,
     "metadata": {},
     "output_type": "execute_result"
    },
    {
     "data": {
      "image/png": "[encoded data removed]",
      "text/plain": [
       "<matplotlib.figure.Figure at 0x912d3080>"
      ]
     },
     "metadata": {},
     "output_type": "display_data"
    }
   ],
   "source": [
    "means_ref = ref_model.means_.round().astype(int).flatten().tolist()\n",
    "predict_ref = np.array([means_ref[int(state)] for state in s_ref])\n",
    "\n",
    "means_micro = micro_model.means_.round().astype(int).flatten().tolist()\n",
    "predict_micro = np.array([means_micro[int(state)] for state in s_micro])\n",
    "\n",
    "plt.plot(predict_ref[:6000])\n",
    "plt.plot(np.array(refrigerator_test[:6000]))"
   ]
  },
  {
   "cell_type": "markdown",
   "metadata": {},
   "source": [
    "## Calculate the comparison between aggregation predication and actual for refrigerator"
   ]
  },
  {
   "cell_type": "code",
   "execution_count": 251,
   "metadata": {},
   "outputs": [
    {
     "name": "stdout",
     "output_type": "stream",
     "text": [
      "[ 0.77949976]\n",
      "[ 0.7837188]\n"
     ]
    }
   ],
   "source": [
    "perc_actual = sum(refrigerator_test[:6000])/sum(X_test[:6000])\n",
    "perc_pred = sum(predict_ref[:6000])/sum(X_test[:6000])\n",
    "\n",
    "print perc_actual\n",
    "print perc_pred"
   ]
  },
  {
   "cell_type": "markdown",
   "metadata": {},
   "source": [
    "## Calculate the comparison between aggregation prediction and actual for microwave"
   ]
  },
  {
   "cell_type": "code",
   "execution_count": 277,
   "metadata": {},
   "outputs": [
    {
     "name": "stdout",
     "output_type": "stream",
     "text": [
      "[ 0.22050024]\n",
      "[ 0.16575853]\n"
     ]
    },
    {
     "data": {
      "image/png": "[encoded data removed]",
      "text/plain": [
       "<matplotlib.figure.Figure at 0x920dd0b8>"
      ]
     },
     "metadata": {},
     "output_type": "display_data"
    }
   ],
   "source": [
    "plt.plot(predict_micro[46000:50000])\n",
    "plt.plot(np.array(microwave_test[46000:50000]))\n",
    "\n",
    "perc_actual = sum(microwave_test[:6000])/sum(X_test[:6000])\n",
    "perc_pred = sum(predict_micro[:6000])/sum(X_test[:6000])\n",
    "\n",
    "print perc_actual\n",
    "print perc_pred"
   ]
  },
  {
   "cell_type": "markdown",
   "metadata": {},
   "source": [
    "## Disaggregation for refrigerator"
   ]
  },
  {
   "cell_type": "code",
   "execution_count": 272,
   "metadata": {},
   "outputs": [
    {
     "data": {
      "image/png": "[encoded data removed]",
      "text/plain": [
       "<matplotlib.figure.Figure at 0x920f8f28>"
      ]
     },
     "metadata": {},
     "output_type": "display_data"
    }
   ],
   "source": [
    "plt.figure()\n",
    "xaxis = np.linspace(0,5,num=6000)\n",
    "plt.plot(xaxis,predict_ref[:6000], label = 'Diaggregated')\n",
    "plt.plot(xaxis,np.array(refrigerator_test[:6000]), label = 'Actual appliance')\n",
    "plt.ylabel('Power [W]')\n",
    "plt.xlabel('Time [hrs]')\n",
    "plt.legend()\n",
    "plt.savefig('ref_5hrs.png', bbox_inches='tight')"
   ]
  },
  {
   "cell_type": "markdown",
   "metadata": {},
   "source": [
    "## Disaggregation for microwave"
   ]
  },
  {
   "cell_type": "code",
   "execution_count": 276,
   "metadata": {},
   "outputs": [
    {
     "data": {
      "image/png": "[encoded data removed]",
      "text/plain": [
       "<matplotlib.figure.Figure at 0x929e3630>"
      ]
     },
     "metadata": {},
     "output_type": "display_data"
    }
   ],
   "source": [
    "plt.figure()\n",
    "xaxis = np.linspace(0,5,num=6000)\n",
    "plt.plot(xaxis,predict_micro[46000:52000], label = 'Diaggregated', linewidth = 5)\n",
    "plt.plot(xaxis,np.array(microwave_test[46000:52000]), label = 'Actual appliance', linewidth = 2.0)\n",
    "plt.ylabel('Power [W]')\n",
    "plt.xlabel('Time [hrs]')\n",
    "plt.legend()\n",
    "plt.savefig('micro_5hrs.png', bbox_inches='tight')"
   ]
  }
 ],
 "metadata": {
  "kernelspec": {
   "display_name": "Python 3",
   "language": "python",
   "name": "python3"
  },
  "language_info": {
   "codemirror_mode": {
    "name": "ipython",
    "version": 3
   },
   "file_extension": ".py",
   "mimetype": "text/x-python",
   "name": "python",
   "nbconvert_exporter": "python",
   "pygments_lexer": "ipython3",
   "version": "3.6.3"
  }
 },
 "nbformat": 4,
 "nbformat_minor": 2
}
